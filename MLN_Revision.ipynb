{
 "cells": [
  {
   "cell_type": "markdown",
   "metadata": {},
   "source": [
    "code borrowed from \n",
    "\n",
    "    https://github.com/sjchoi86/yet-another-pytorch-tutorial/blob/main/notebook/mdn-cls.ipynb\n",
    "    \n",
    "# OOD CIFAR"
   ]
  },
  {
   "cell_type": "code",
   "execution_count": 7,
   "metadata": {},
   "outputs": [
    {
     "name": "stdout",
     "output_type": "stream",
     "text": [
      "PyTorch version:[1.6.0].\n",
      "device:[cuda:0].\n"
     ]
    }
   ],
   "source": [
    "import math\n",
    "import matplotlib.pyplot as plt\n",
    "import numpy as np\n",
    "import torch\n",
    "import torch.nn as nn\n",
    "import torch.optim as optim\n",
    "import torch.nn.functional as F\n",
    "import torch.distributions as TD\n",
    "from torch.autograd import Variable\n",
    "from collections import OrderedDict\n",
    "from resnet import *\n",
    "from resnet2 import *\n",
    "\n",
    "%matplotlib inline\n",
    "%config InlineBackend.figure_format='retina'\n",
    "np.set_printoptions(precision=3)\n",
    "torch.set_printoptions(precision=3)\n",
    "print (\"PyTorch version:[%s].\"%(torch.__version__))\n",
    "device = torch.device('cuda:0' if torch.cuda.is_available() else 'cpu')\n",
    "print (\"device:[%s].\"%(device))"
   ]
  },
  {
   "cell_type": "markdown",
   "metadata": {},
   "source": [
    "# Config"
   ]
  },
  {
   "cell_type": "code",
   "execution_count": 20,
   "metadata": {},
   "outputs": [],
   "source": [
    "indist_dataset  = \"cifar40\"  #mnist, cifar40, cifar10\n",
    "outdist_dataset = \"cifar60\"  #svhn, cifar60\n",
    "measure         = \"epis\"     #confidence, epis, alea\n",
    "resnet_layers   = \"resnet20\"\n",
    "BATCH_SIZE = 128"
   ]
  },
  {
   "cell_type": "markdown",
   "metadata": {},
   "source": [
    "# MLN"
   ]
  },
  {
   "cell_type": "code",
   "execution_count": 9,
   "metadata": {},
   "outputs": [],
   "source": [
    "class MixtureOfLogits(nn.Module):\n",
    "    def __init__(self,\n",
    "                 in_dim     = 64,   # input feature dimension \n",
    "                 y_dim      = 10,   # number of classes \n",
    "                 k          = 5,    # number of mixtures\n",
    "                 sig_min    = 1e-4, # minimum sigma\n",
    "                 sig_max    = None, # maximum sigma\n",
    "                 SHARE_SIG  = True  # share sigma among mixture\n",
    "                 ):\n",
    "        super(MixtureOfLogits,self).__init__()\n",
    "        self.in_dim     = in_dim    # Q\n",
    "        self.y_dim      = y_dim     # D\n",
    "        self.k          = k         # K\n",
    "        self.sig_min    = sig_min\n",
    "        self.sig_max    = sig_max\n",
    "        self.SHARE_SIG  = SHARE_SIG\n",
    "        self.build_graph()\n",
    "\n",
    "    def build_graph(self):\n",
    "        self.h_dim = 256\n",
    "        self.fc_pi      = nn.Sequential(nn.BatchNorm1d(self.in_dim),\n",
    "                                        nn.Linear(self.in_dim,self.h_dim),\n",
    "                                        nn.ReLU(inplace=True),\n",
    "                                        nn.BatchNorm1d(self.h_dim),\n",
    "                                        nn.Linear(self.h_dim,self.k))\n",
    "                                        \n",
    "        self.fc_mu      = nn.Sequential(nn.BatchNorm1d(self.in_dim),\n",
    "                                        nn.Linear(self.in_dim,self.h_dim),\n",
    "                                        nn.ReLU(inplace=True),\n",
    "                                        nn.BatchNorm1d(self.h_dim),\n",
    "                                        nn.Linear(self.h_dim,self.k*self.y_dim))\n",
    "        if self.SHARE_SIG:\n",
    "            self.fc_sigma   = nn.Sequential(nn.BatchNorm1d(self.in_dim),\n",
    "                                        nn.Linear(self.in_dim,self.h_dim),\n",
    "                                        nn.ReLU(inplace=True),\n",
    "                                        nn.BatchNorm1d(self.h_dim),\n",
    "                                        nn.Linear(self.h_dim,self.k))\n",
    "        else:\n",
    "            self.fc_sigma   = nn.Sequential(nn.BatchNorm1d(self.in_dim),\n",
    "                                        nn.Linear(self.in_dim,self.h_dim),\n",
    "                                        nn.ReLU(inplace=True),\n",
    "                                        nn.BatchNorm1d(self.h_dim),\n",
    "                                        nn.Linear(self.h_dim,self.k))\n",
    "\n",
    "    def forward(self,x):\n",
    "        \"\"\"\n",
    "            :param x: [N x Q]\n",
    "        \"\"\"\n",
    "        pi_logit        = self.fc_pi(x)                                 # [N x K]\n",
    "        pi              = torch.softmax(pi_logit,dim=1)                 # [N x K]\n",
    "        mu              = self.fc_mu(x)                                 # [N x KD]\n",
    "        mu              = torch.reshape(mu,(-1,self.k,self.y_dim))      # [N x K x D]\n",
    "        mu              = F.sigmoid(mu)\n",
    "        #mu              = F.softmax(mu, dim=-1)\n",
    "        if self.SHARE_SIG:\n",
    "            sigma       = self.fc_sigma(x)                              # [N x K]\n",
    "            sigma       = sigma.unsqueeze(dim=-1)                       # [N x K x 1]\n",
    "            sigma       = sigma.expand_as(mu)                           # [N x K x D]\n",
    "        else:\n",
    "            sigma       = self.fc_sigma(x)                              # [N x KD]\n",
    "        sigma           = torch.reshape(sigma,(-1,self.k,self.y_dim))   # [N x K x D]\n",
    "        if self.sig_max is None:\n",
    "            sigma = self.sig_min + torch.exp(sigma)                     # [N x K x D]\n",
    "        else:\n",
    "            sig_range = (self.sig_max-self.sig_min)\n",
    "            sigma = self.sig_min + sig_range*torch.sigmoid(sigma)       # [N x K x D]\n",
    "        mol_out = {'pi':pi,'mu':mu,'sigma':sigma}\n",
    "        return mol_out"
   ]
  },
  {
   "cell_type": "code",
   "execution_count": 10,
   "metadata": {},
   "outputs": [],
   "source": [
    "class MixtureLogitNetwork(nn.Module):\n",
    "    def __init__(self,\n",
    "                 name       = 'mln',        # name\n",
    "                 h_dim      = 512,          # itermediate feature dimension\n",
    "                 y_dim      = 10,           # output dimension\n",
    "                 USE_BN     = True,         # whether to use batch-norm\n",
    "                 k          = 5,            # number of mixtures\n",
    "                 sig_min    = 1e-4,         # minimum sigma\n",
    "                 sig_max    = 10,           # maximum sigma\n",
    "                 mu_min     = -3,           # minimum mu (init)\n",
    "                 mu_max     = +3,           # maximum mu (init)\n",
    "                 SHARE_SIG  = True,    \n",
    "                 base       = None \n",
    "                 ):\n",
    "        super(MixtureLogitNetwork,self).__init__()\n",
    "        self.name       = name\n",
    "        self.h_dim      = h_dim\n",
    "        self.y_dim      = y_dim\n",
    "        self.USE_BN     = USE_BN\n",
    "        self.k          = k\n",
    "        self.sig_min    = sig_min\n",
    "        self.sig_max    = sig_max\n",
    "        self.mu_min     = mu_min\n",
    "        self.mu_max     = mu_max\n",
    "        self.SHARE_SIG  = SHARE_SIG\n",
    "        self.base       = base\n",
    "        self.build_graph()\n",
    "        self.init_param()\n",
    "\n",
    "    def build_graph(self):\n",
    "        # Conv layers\n",
    "        if self.base is None:\n",
    "            self.base = ResNet18(num_classes=self.y_dim)\n",
    "        \n",
    "        # Final mixture of logits layer\n",
    "        self.mol = MixtureOfLogits(\n",
    "            in_dim      = 8192,  \n",
    "            y_dim       = self.y_dim, \n",
    "            k           = self.k,\n",
    "            sig_min     = self.sig_min,\n",
    "            sig_max     = self.sig_max,\n",
    "            SHARE_SIG   = self.SHARE_SIG\n",
    "        )\n",
    "\n",
    "    def forward(self,x):\n",
    "        bs = x.size(0)\n",
    "        feat = self.base(x)[-1][-1].view(bs,-1)\n",
    "        mln_out = self.mol(feat)\n",
    "        return mln_out # mu:[N x K x D] / pi:[N x K] / sigma:[N x K x D]\n",
    "\n",
    "    def init_param(self):\n",
    "        for m in self.modules():\n",
    "            if isinstance(m,nn.Conv2d): # init conv\n",
    "                nn.init.kaiming_normal_(m.weight)\n",
    "            if isinstance(m,nn.Linear): # lnit dense\n",
    "                nn.init.kaiming_normal_(m.weight)\n",
    "                \n",
    "        # Heuristic: fc_mu.bias ~ Uniform(mu_min,mu_max)\n",
    "        #self.mol.fc_mu.bias.data.uniform_(self.mu_min,self.mu_max)"
   ]
  },
  {
   "cell_type": "markdown",
   "metadata": {},
   "source": [
    "# Loss"
   ]
  },
  {
   "cell_type": "code",
   "execution_count": 11,
   "metadata": {},
   "outputs": [
    {
     "name": "stdout",
     "output_type": "stream",
     "text": [
      "x:       (2, 3, 32, 32)\n",
      "=>\n",
      "pi:    (2, 3)\n",
      "[[0.204 0.177 0.619]\n",
      " [0.447 0.42  0.132]]\n",
      "mu:    (2, 3, 10)\n",
      "[[[0.771 0.574 0.546 0.975 0.172 0.662 0.81  0.333 0.118 0.824]\n",
      "  [0.94  0.453 0.871 0.39  0.12  0.579 0.192 0.586 0.597 0.028]\n",
      "  [0.926 0.876 0.788 0.674 0.138 0.759 0.371 0.541 0.224 0.675]]\n",
      "\n",
      " [[0.222 0.42  0.436 0.026 0.827 0.313 0.186 0.69  0.894 0.16 ]\n",
      "  [0.058 0.524 0.121 0.621 0.89  0.397 0.795 0.432 0.398 0.97 ]\n",
      "  [0.078 0.137 0.213 0.332 0.865 0.25  0.64  0.488 0.768 0.343]]]\n",
      "sigma: (2, 3, 10)\n",
      "[[[4.132 4.132 4.132 4.132 4.132 4.132 4.132 4.132 4.132 4.132]\n",
      "  [5.258 5.258 5.258 5.258 5.258 5.258 5.258 5.258 5.258 5.258]\n",
      "  [8.174 8.174 8.174 8.174 8.174 8.174 8.174 8.174 8.174 8.174]]\n",
      "\n",
      " [[5.671 5.671 5.671 5.671 5.671 5.671 5.671 5.671 5.671 5.671]\n",
      "  [5.032 5.032 5.032 5.032 5.032 5.032 5.032 5.032 5.032 5.032]\n",
      "  [1.785 1.785 1.785 1.785 1.785 1.785 1.785 1.785 1.785 1.785]]]\n",
      "=>\n",
      "mace:[0.447] epis:[0.055] alea:[0.877]\n"
     ]
    },
    {
     "name": "stderr",
     "output_type": "stream",
     "text": [
      "/home/rilab/miniconda3/lib/python3.8/site-packages/torch/nn/functional.py:1625: UserWarning: nn.functional.sigmoid is deprecated. Use torch.sigmoid instead.\n",
      "  warnings.warn(\"nn.functional.sigmoid is deprecated. Use torch.sigmoid instead.\")\n"
     ]
    }
   ],
   "source": [
    "def np2tc(x_np): return torch.from_numpy(x_np).float().to(device)\n",
    "def tc2np(x_tc): return x_tc.detach().cpu().numpy()\n",
    "\n",
    "def mln_gather(pi,mu,sigma):\n",
    "    \"\"\"\n",
    "        :param pi:      [N x K]\n",
    "        :param mu:      [N x K x D]\n",
    "        :param sigma:   [N x K x D]\n",
    "    \"\"\"\n",
    "    max_idx = torch.argmax(pi,dim=1) # [N]\n",
    "    idx_gather = max_idx.unsqueeze(dim=-1).repeat(1,mu.shape[2]).unsqueeze(1) # [N x 1 x D]\n",
    "    mu_sel = torch.gather(mu,dim=1,index=idx_gather).squeeze(dim=1) # [N x D]\n",
    "    sigma_sel = torch.gather(sigma,dim=1,index=idx_gather).squeeze(dim=1) # [N x D]\n",
    "    out = {'max_idx':max_idx, # [N]\n",
    "           'idx_gather':idx_gather, # [N x 1 x D]\n",
    "           'mu_sel':mu_sel, # [N x D]\n",
    "           'sigma_sel':sigma_sel # [N x D]\n",
    "           }\n",
    "    return out\n",
    "\n",
    "oneDivSqrtTwoPI = 1.0 / np.sqrt(2.0*np.pi)\n",
    "def gaussian_distribution(y, mu, sigma):\n",
    "    result = (y.expand_as(mu) - mu) * torch.reciprocal(sigma)\n",
    "    result = -0.5 * (result * result)\n",
    "    return (torch.exp(result) * torch.reciprocal(sigma)) * oneDivSqrtTwoPI\n",
    "\n",
    "def mace_loss(pi,mu,sigma,target):\n",
    "    \"\"\"\n",
    "        :param pi:      [N x K]\n",
    "        :param mu:      [N x K x D]\n",
    "        :param sigma:   [N x K x D]\n",
    "        :param target:  [N x D]\n",
    "    \"\"\"\n",
    "    # $\\mu$\n",
    "    mu_hat = torch.softmax(mu,dim=2) # logit to prob [N x K x D]\n",
    "    log_mu_hat = torch.log(mu_hat+1e-6) # [N x K x D]\n",
    "    # $\\pi$\n",
    "    pi_usq = torch.unsqueeze(pi,2) # [N x K x 1]\n",
    "    pi_exp = pi_usq.expand_as(mu) # [N x K x D]\n",
    "    ### self distributed labeling\n",
    "    # target\n",
    "    target_usq =  torch.unsqueeze(target,1) # [N x 1 x D]\n",
    "    target_exp =  target_usq.expand_as(mu) # [N x K x D]\n",
    "    # CE loss\n",
    "    ce_exp = -target_exp*log_mu_hat # CE [N x K x D]\n",
    "    ace_exp = ce_exp / sigma # attenuated CE [N x K x D]\n",
    "    mace_exp = torch.mul(pi_exp,ace_exp) # mixtured attenuated CE [N x K x D]\n",
    "    mace = torch.sum(mace_exp,dim=1) # [N x D]\n",
    "    mace = torch.sum(mace,dim=1) # [N]\n",
    "    mace_avg = torch.mean(mace) # [1]\n",
    "    # Compute uncertainties (epis and alea)\n",
    "    unct_out = mln_uncertainties(pi,mu,sigma)\n",
    "    epis = unct_out['epis'] # [N]\n",
    "    alea = unct_out['alea'] # [N]\n",
    "    epis_avg = torch.mean(epis) # [1]\n",
    "    alea_avg = torch.mean(torch.log(alea)) # [1]\n",
    "    # Return\n",
    "    loss_out = {'mace':mace, # [N]\n",
    "                'mace_avg':mace_avg, # [1]\n",
    "                'epis':epis, # [N]\n",
    "                'alea':alea, # [N]\n",
    "                'epis_avg':epis_avg, # [1]\n",
    "                'alea_avg':alea_avg # [1]\n",
    "                }\n",
    "    return loss_out\n",
    "\n",
    "def mln_uncertainties(pi,mu,sigma):\n",
    "    \"\"\"\n",
    "        :param pi:      [N x K]\n",
    "        :param mu:      [N x K x D]\n",
    "        :param sigma:   [N x K x D]\n",
    "    \"\"\"\n",
    "    # $\\pi$\n",
    "    mu_hat = torch.softmax(mu,dim=2) # logit to prob [N x K x D]\n",
    "    pi_usq = torch.unsqueeze(pi,2) # [N x K x 1]\n",
    "    pi_exp = pi_usq.expand_as(sigma) # [N x K x D]\n",
    "    # softmax($\\mu$) average\n",
    "    mu_hat_avg = torch.sum(torch.mul(pi_exp,mu_hat),dim=1).unsqueeze(1) # [N x 1 x D]\n",
    "    mu_hat_avg_exp = mu_hat_avg.expand_as(mu) # [N x K x D]\n",
    "    mu_hat_diff_sq = torch.square(mu_hat-mu_hat_avg_exp) # [N x K x D]\n",
    "    # Epistemic uncertainty\n",
    "    epis = torch.sum(torch.mul(pi_exp,mu_hat_diff_sq), dim=1)  # [N x D]\n",
    "    epis = torch.sqrt(torch.sum(epis,dim=1)) # [N]\n",
    "    # Aleatoric uncertainty\n",
    "    alea = torch.sum(torch.mul(pi_exp,sigma), dim=1)  # [N x D]\n",
    "    alea = torch.sqrt(torch.mean(alea,dim=1)) # [N]\n",
    "    # Return\n",
    "    unct_out = {'epis':epis, # [N]\n",
    "                'alea':alea  # [N]\n",
    "                }\n",
    "    return unct_out\n",
    "    \n",
    "# Demo forward path of MLN\n",
    "M           = MixtureLogitNetwork(k=3,SHARE_SIG=True).to(device)\n",
    "x           = torch.rand(2,3,32,32).to(device)\n",
    "target      = F.one_hot(torch.randint(low=0,high=10,size=(2,)),num_classes=10).to(device) \n",
    "mln_out     = M.forward(x)\n",
    "pi,mu,sigma = mln_out['pi'],mln_out['mu'],mln_out['sigma']\n",
    "mu_sel      = mln_gather(pi,mu,sigma)['mu_sel']\n",
    "loss_out    = mace_loss(pi,mu,sigma,target)\n",
    "loss        = loss_out['mace_avg'] - loss_out['epis_avg'] # epis as a regularizer \n",
    "loss.backward() # backward propagation \n",
    "print (\"x:       %s\"%(tc2np(x).shape,))\n",
    "print (\"=>\")\n",
    "print (\"pi:    %s\\n%s\"%(tc2np(pi).shape,tc2np(pi)))\n",
    "print (\"mu:    %s\\n%s\"%(tc2np(mu).shape,tc2np(mu)))\n",
    "print (\"sigma: %s\\n%s\"%(tc2np(sigma).shape,tc2np(sigma)))\n",
    "print (\"=>\")\n",
    "print (\"mace:[%.3f] epis:[%.3f] alea:[%.3f]\"%\n",
    "       (loss_out['mace_avg'],loss_out['epis_avg'],loss_out['alea_avg']))\n",
    "\n"
   ]
  },
  {
   "cell_type": "markdown",
   "metadata": {},
   "source": [
    "# Dataset"
   ]
  },
  {
   "cell_type": "code",
   "execution_count": 40,
   "metadata": {},
   "outputs": [
    {
     "name": "stdout",
     "output_type": "stream",
     "text": [
      "==============================\n",
      " + in-dist len     :  18000\n",
      " + out-dist len    :  8000\n"
     ]
    }
   ],
   "source": [
    "from torchvision import datasets,transforms\n",
    "\n",
    "transform_train = transforms.Compose([\n",
    "    transforms.RandomCrop(32, padding=4),\n",
    "    transforms.RandomHorizontalFlip(),\n",
    "    transforms.ColorJitter(brightness=0.2, contrast=0.2, saturation=0.2),\n",
    "    transforms.ToTensor(),\n",
    "    transforms.Normalize((0.4914, 0.4822, 0.4465), (0.2023, 0.1994, 0.2010)),\n",
    "])\n",
    "\n",
    "transform_test = transforms.Compose([\n",
    "    transforms.ToTensor(),\n",
    "    transforms.Normalize((0.4914, 0.4822, 0.4465), (0.2023, 0.1994, 0.2010)),\n",
    "])\n",
    "\n",
    "#in-dist dataset \n",
    "if indist_dataset == 'cifar10':\n",
    "    train_dataset = datasets.CIFAR10(root='./data/',train=True,transform=transform_train,download=True)\n",
    "    test_dataset = datasets.CIFAR10(root='./data/',train=False,transform=transform_test,download=True)\n",
    "    classes = 10\n",
    "else:\n",
    "    # cifar40\n",
    "    train_dataset = datasets.ImageFolder('./data/cifar-bench/train/cifar40',transform=transform_train)\n",
    "    test_dataset = datasets.ImageFolder('./data/cifar-bench/test/cifar40',transform=transform_train)\n",
    "    classes = 40\n",
    "\n",
    "#out-dist dataset \n",
    "if outdist_dataset == 'svnh':\n",
    "    outdist_dataset = datasets.ImageFolder('./data/cifar-bench/test/svhn',transform=transform_train)\n",
    "else:\n",
    "    # cifar60\n",
    "    outdist_dataset = datasets.ImageFolder('./data/cifar-bench/test/cifar60',transform=transform_train)\n",
    "    \n",
    "outdist_iter = torch.utils.data.DataLoader(outdist_dataset,batch_size=BATCH_SIZE,shuffle=True,num_workers=1)\n",
    "train_iter = torch.utils.data.DataLoader(train_dataset,batch_size=BATCH_SIZE,shuffle=True,num_workers=1)\n",
    "test_iter = torch.utils.data.DataLoader(test_dataset,batch_size=BATCH_SIZE,shuffle=True,num_workers=1)\n",
    "\n",
    "print (\"=\"*30)\n",
    "print(' + in-dist len     : ',len(train_dataset))\n",
    "print(' + out-dist len    : ',len(outdist_dataset))"
   ]
  },
  {
   "cell_type": "code",
   "execution_count": 41,
   "metadata": {},
   "outputs": [],
   "source": [
    "def func_eval(model,data_iter,device):\n",
    "    with torch.no_grad():\n",
    "        n_total,n_correct,epis_unct_sum,alea_unct_sum = 0,0,0,0\n",
    "        y_probs= list()\n",
    "        model.eval() # evaluate (affects DropOut and BN)\n",
    "        for batch_in,batch_out in data_iter:\n",
    "            # Foraward path\n",
    "            y_trgt      = batch_out.to(device)\n",
    "            mln_out     = model.forward(batch_in.view(-1,3,32,32).to(device))\n",
    "            pi,mu,sigma = mln_out['pi'],mln_out['mu'],mln_out['sigma']\n",
    "            out         = mln_gather(pi,mu,sigma)\n",
    "            model_pred  = out['mu_sel'] # [B x N]\n",
    " \n",
    "            # Compute uncertainty \n",
    "            unct_out    = mln_uncertainties(pi,mu,sigma)\n",
    "            epis_unct   = unct_out['epis'] # [N]\n",
    "            alea_unct   = unct_out['alea'] # [N]\n",
    "            epis_unct_sum += torch.sum(epis_unct)\n",
    "            alea_unct_sum += torch.sum(alea_unct)\n",
    "\n",
    "            # Check predictions\n",
    "            y_prob,y_pred    = torch.max(model_pred,1)\n",
    "            n_correct   += (y_pred==y_trgt).sum().item()\n",
    "            n_total     += batch_in.size(0)\n",
    "            \n",
    "            y_probs += list(y_prob.cpu().numpy())\n",
    "            \n",
    "        val_accr  = (n_correct/n_total)\n",
    "        epis      = (epis_unct_sum/n_total).detach().cpu().item()\n",
    "        alea      = (alea_unct_sum/n_total).detach().cpu().item()\n",
    "        model.train() # back to train mode \n",
    "        out_eval = {'val_accr':val_accr,'epis':epis,'alea':alea, 'y_prob' : y_probs}\n",
    "    return out_eval"
   ]
  },
  {
   "cell_type": "markdown",
   "metadata": {},
   "source": [
    "## Train \n",
    "experiments procedure\n",
    "1. train (in-dist)\n",
    "2. evaluate uncertainity for (out-dist)"
   ]
  },
  {
   "cell_type": "code",
   "execution_count": 43,
   "metadata": {},
   "outputs": [],
   "source": [
    "np.random.seed(seed=0)\n",
    "torch.manual_seed(seed=0)\n",
    "pretrained = False\n",
    "# train from scratch\n",
    "if not pretrained:\n",
    "    model = MixtureLogitNetwork(name='mln',y_dim=classes,USE_BN=True,k=5,\n",
    "                                sig_min=1.0,sig_max=2.0, \n",
    "                                mu_min=-3,mu_max=+3,SHARE_SIG=True).to(device)\n",
    "# train from pretrained model \n",
    "else:\n",
    "    base = resnet20(num_classes=10, dropRate=0.1)\n",
    "    base.load_state_dict(torch.load('./ckpt/resnet20.pth'))\n",
    "    model = MixtureLogitNetwork(name='mln',y_dim=classes,USE_BN=True,k=5,\n",
    "                                sig_min=1.0,sig_max=2.0, \n",
    "                                mu_min=-3,mu_max=+3,SHARE_SIG=True, base = base).to(device)\n",
    "    #for param in model.base.parameters():\n",
    "    #    param.requires_grad = False\n",
    "\n",
    "model.init_param()\n"
   ]
  },
  {
   "cell_type": "code",
   "execution_count": null,
   "metadata": {},
   "outputs": [
    {
     "name": "stdout",
     "output_type": "stream",
     "text": [
      "epoch:[0/220] loss:[2.153] test_accr:[0.019] \n",
      " [part]      alea:[1.413] epis:[0.0126133]\n",
      " [remaining] alea:[1.413] epis:[0.0128648]\n",
      "epoch:[1/220] loss:[2.048] test_accr:[0.015] \n",
      " [part]      alea:[1.413] epis:[0.0114761]\n",
      " [remaining] alea:[1.413] epis:[0.0115929]\n"
     ]
    }
   ],
   "source": [
    "optm = optim.SGD(model.parameters(), lr=1e-2,momentum=0.9, weight_decay=5e-4)\n",
    "#optm = optim.AdamW(model.parameters(), lr=1e-3, weight_decay=5e-4)\n",
    "\n",
    "scheduler = torch.optim.lr_scheduler.CosineAnnealingLR(optm, T_max=220)\n",
    "model.train() # train mode\n",
    "ce = nn.CrossEntropyLoss()\n",
    "\n",
    "EPOCHS,print_every = 220, 1\n",
    "for epoch in range(EPOCHS):\n",
    "    loss_sum = 0.0\n",
    "    mace_losses = list()\n",
    "    epis_losses = list()\n",
    "    alea_losses = list()\n",
    "    epis_loss_var = 1\n",
    "    alea_loss_var = 1\n",
    "    batch_ind = 0\n",
    "    for batch_in,batch_out in train_iter:\n",
    "        # Forward path\n",
    "        mln_out = model.forward(batch_in.view(-1,3,32,32).to(device)) \n",
    "        pi,mu,sigma = mln_out['pi'],mln_out['mu'],mln_out['sigma']\n",
    "        target = torch.eye(classes)[batch_out].to(device)\n",
    "        loss_out = mace_loss(pi,mu,sigma,target) # 'mace_avg','epis_avg','alea_avg'\n",
    "        if(batch_ind > 0):\n",
    "            epis_loss_var = np.var(epis_losses) + 1e-5\n",
    "            alea_loss_var = np.var(alea_losses) + 1e-5\n",
    "            #print(epis_loss_var, alea_loss_var)\n",
    "            \n",
    "        #self distributed loss\n",
    "        k_mix    = pi.size(-1)\n",
    "        pi_label_prob = (1/k_mix)*(pi-torch.mean(pi,dim=0).expand_as(pi)) + (1/k_mix)\n",
    "        pi_label = torch.argmax(pi_label_prob,dim=1)\n",
    "        #print(pi_label.bincount())\n",
    "        pi_loss = ce(pi, pi_label)\n",
    "        \n",
    "        #loss = loss_out['mace_avg'] - epis_loss_var*loss_out['epis_avg'] + alea_loss_var*loss_out['alea_avg']\n",
    "        loss = loss_out['mace_avg'] - loss_out['epis_avg'] + loss_out['alea_avg'] \n",
    "        #loss = loss_out['mace_avg'] + 0.1*pi_loss\n",
    "        #print(loss_out['mace_avg'].data, loss_out['epis_avg'].data, loss_out['alea_avg'].data, )\n",
    "        # Update\n",
    "        optm.zero_grad() # reset gradient \n",
    "        loss.backward() # back-propagation \n",
    "        optm.step() # optimizer update\n",
    "        # Track losses \n",
    "        loss_sum += loss\n",
    "        mace_losses.append(loss_out['mace_avg'].cpu().detach().numpy())\n",
    "        epis_losses.append(loss_out['epis_avg'].cpu().detach().numpy())\n",
    "        alea_losses.append(loss_out['alea_avg'].cpu().detach().numpy())\n",
    "        batch_ind+=1 \n",
    "    loss_avg = loss_sum/len(train_iter)\n",
    "    scheduler.step()\n",
    "    if ((epoch%print_every)==0) or (epoch==(EPOCHS-1)):\n",
    "        test_res = func_eval(model,test_iter,device)\n",
    "        outdist_res  = func_eval(model,outdist_iter,device)\n",
    "        print (\"epoch:[%d/%d] loss:[%.3f] test_accr:[%.3f] \"%\n",
    "                (epoch,EPOCHS,loss_avg,test_res['val_accr'])) \n",
    "        print (\" [part]      alea:[%.3f] epis:[%.7f]\\n [remaining] alea:[%.3f] epis:[%.7f]\"%\n",
    "                (test_res['alea'],test_res['epis'], outdist_res['alea'],outdist_res['epis']))\n",
    "\n",
    "print (\"Done\")"
   ]
  },
  {
   "cell_type": "code",
   "execution_count": 197,
   "metadata": {},
   "outputs": [
    {
     "name": "stdout",
     "output_type": "stream",
     "text": [
      "22 7\n"
     ]
    },
    {
     "data": {
      "text/plain": [
       "<matplotlib.legend.Legend at 0x7f50b8c90850>"
      ]
     },
     "execution_count": 197,
     "metadata": {},
     "output_type": "execute_result"
    },
    {
     "data": {
      "image/png": "[encoded data removed]",
      "text/plain": [
       "<Figure size 432x288 with 1 Axes>"
      ]
     },
     "metadata": {
      "image/png": {
       "height": 248,
       "width": 388
      },
      "needs_background": "light"
     },
     "output_type": "display_data"
    }
   ],
   "source": [
    "indist_conf = list()\n",
    "outdist_conf = list()\n",
    "for batch_in,batch_out in test_iter:\n",
    "    with torch.no_grad():\n",
    "        # Forward path\n",
    "        mln_out = model.forward(batch_in.view(-1,3,32,32).to(device)) \n",
    "        pi,mu,sigma = mln_out['pi'],mln_out['mu'],mln_out['sigma']\n",
    "        out         = mln_gather(pi,mu,sigma)\n",
    "        model_pred  = out['mu_sel'] # [B x N]\n",
    "        value, ind = torch.max(model_pred,dim=1)\n",
    "        indist_conf += list(value.cpu().numpy())\n",
    "\n",
    "for batch_in,batch_out in svhn_test_iter:\n",
    "    with torch.no_grad():\n",
    "        # Forward path\n",
    "        mln_out = model.forward(batch_in.view(-1,3,32,32).to(device)) \n",
    "        pi,mu,sigma = mln_out['pi'],mln_out['mu'],mln_out['sigma']\n",
    "        out         = mln_gather(pi,mu,sigma)\n",
    "        model_pred  = out['mu_sel'] # [B x N]\n",
    "        value, ind = torch.max(model_pred,dim=1)\n",
    "        outdist_conf += list(value.cpu().numpy())\n",
    "        \n",
    "\n",
    "print(max(pi_dist), min(pi_dist))\n",
    "plt.hist(indist_conf, bins=15, label='indist')\n",
    "plt.hist(outdist_conf, alpha=0.5, bins=15, label='outdist')\n",
    "plt.legend()"
   ]
  },
  {
   "cell_type": "code",
   "execution_count": null,
   "metadata": {},
   "outputs": [],
   "source": [
    "pi_dist = list()\n",
    "for batch_in,batch_out in train_iter:\n",
    "    with torch.no_grad():\n",
    "        # Forward path\n",
    "        mln_out = model.forward(batch_in.view(-1,3,32,32).to(device)) \n",
    "        pi,mu,sigma = mln_out['pi'],mln_out['mu'],mln_out['sigma']\n",
    "        pi_dist += list(torch.argmax(pi,dim=1).cpu().numpy())\n",
    "        \n",
    "print(max(pi_dist), min(pi_dist))\n",
    "plt.hist(pi_dist)"
   ]
  },
  {
   "cell_type": "code",
   "execution_count": 24,
   "metadata": {},
   "outputs": [
    {
     "data": {
      "text/plain": [
       "(tensor([0., 0., 0., 0., 1., 0., 0., 0., 0., 0.], device='cuda:0'),\n",
       " tensor([0., 0., 0., 0., 0., 1., 0., 0., 0., 0.], device='cuda:0'))"
      ]
     },
     "execution_count": 24,
     "metadata": {},
     "output_type": "execute_result"
    }
   ],
   "source": [
    "target[0,:], target[55, :]"
   ]
  },
  {
   "cell_type": "code",
   "execution_count": 32,
   "metadata": {},
   "outputs": [
    {
     "data": {
      "text/plain": [
       "(tensor([8.775e-05, 3.923e-05, 1.666e-05, 5.978e-06, 2.429e-05, 3.662e-01,\n",
       "         3.904e-05, 9.873e-05, 5.053e-06, 2.849e-06, 1.674e-05, 1.002e-05,\n",
       "         1.388e-05, 1.321e-05, 7.380e-06, 5.665e-06, 1.396e-04, 2.881e-05,\n",
       "         6.357e-06, 6.332e-01, 2.221e-05, 2.288e-05, 2.282e-05, 2.741e-05],\n",
       "        device='cuda:0', grad_fn=<SliceBackward>),\n",
       " tensor([2.775e-11, 5.936e-12, 1.078e-12, 1.825e-12, 2.190e-12, 6.231e-13,\n",
       "         1.696e-12, 1.065e-11, 3.163e-13, 3.301e-13, 1.413e-12, 1.059e-12,\n",
       "         1.414e-12, 1.350e-12, 1.322e-12, 7.133e-13, 1.996e-10, 2.677e-12,\n",
       "         2.993e-13, 1.000e+00, 3.354e-12, 1.964e-12, 9.129e-13, 1.150e-12],\n",
       "        device='cuda:0', grad_fn=<SliceBackward>))"
      ]
     },
     "execution_count": 32,
     "metadata": {},
     "output_type": "execute_result"
    }
   ],
   "source": [
    "pi[0,:] , pi[55,:]"
   ]
  },
  {
   "cell_type": "code",
   "execution_count": 25,
   "metadata": {},
   "outputs": [
    {
     "data": {
      "text/plain": [
       "(tensor([[1.510, 1.001, 2.000, 2.000, 2.000, 2.000, 2.000, 2.000, 1.089, 1.006],\n",
       "         [1.745, 1.738, 1.931, 1.964, 1.956, 1.911, 1.892, 1.933, 1.900, 1.756],\n",
       "         [1.876, 1.859, 1.944, 1.967, 1.922, 1.962, 1.969, 1.928, 1.974, 1.619],\n",
       "         [1.399, 1.002, 2.000, 1.999, 1.999, 1.994, 1.996, 1.999, 1.027, 1.001],\n",
       "         [1.998, 1.997, 2.000, 2.000, 2.000, 1.999, 1.999, 2.000, 1.944, 1.998],\n",
       "         [1.912, 1.864, 1.942, 1.873, 1.815, 1.824, 1.903, 1.903, 1.770, 1.792],\n",
       "         [1.862, 1.836, 1.901, 1.947, 1.944, 1.919, 1.967, 1.873, 1.570, 1.806]],\n",
       "        device='cuda:0', grad_fn=<SliceBackward>),\n",
       " tensor([[1.007, 1.004, 2.000, 2.000, 2.000, 2.000, 1.999, 2.000, 1.005, 1.009],\n",
       "         [1.875, 1.666, 1.908, 1.917, 1.973, 1.914, 1.940, 1.956, 1.927, 1.880],\n",
       "         [1.826, 1.824, 1.881, 1.959, 1.829, 1.916, 1.977, 1.936, 1.976, 1.808],\n",
       "         [1.029, 1.037, 2.000, 1.999, 1.999, 1.998, 1.999, 1.999, 1.007, 1.065],\n",
       "         [1.994, 1.994, 2.000, 2.000, 2.000, 2.000, 2.000, 2.000, 1.769, 1.996],\n",
       "         [1.929, 1.872, 1.811, 1.948, 1.743, 1.819, 1.874, 1.921, 1.813, 1.693],\n",
       "         [1.871, 1.818, 1.818, 1.936, 1.948, 1.925, 1.943, 1.836, 1.742, 1.867]],\n",
       "        device='cuda:0', grad_fn=<SliceBackward>))"
      ]
     },
     "execution_count": 25,
     "metadata": {},
     "output_type": "execute_result"
    }
   ],
   "source": [
    "sigma[0,:,:], sigma[55,:,:]"
   ]
  },
  {
   "cell_type": "code",
   "execution_count": null,
   "metadata": {},
   "outputs": [],
   "source": []
  },
  {
   "cell_type": "code",
   "execution_count": 70,
   "metadata": {},
   "outputs": [],
   "source": [
    "def func_eval_ood(model,data_iter,device):\n",
    "    with torch.no_grad():\n",
    "        n_total,n_correct,epis_unct_sum,alea_unct_sum = 0,0,0,0\n",
    "        y_probs,y_trues= list(),list()\n",
    "        epis_ = list()\n",
    "        alea_ = list()\n",
    "        model.eval() # evaluate (affects DropOut and BN)\n",
    "        for batch_in,batch_out in data_iter:\n",
    "            # Foraward path\n",
    "            y_trgt      = batch_out.to(device)\n",
    "            mln_out     = model.forward(batch_in.view(-1,3,32,32).to(device))\n",
    "            pi,mu,sigma = mln_out['pi'],mln_out['mu'],mln_out['sigma']\n",
    "            out         = mln_gather(pi,mu,sigma)\n",
    "            model_pred  = out['mu_sel'] # [B x N]\n",
    " \n",
    "            # Compute uncertainty \n",
    "            unct_out    = mln_uncertainties(pi,mu,sigma)\n",
    "            epis_unct   = unct_out['epis'] # [N]\n",
    "            alea_unct   = unct_out['alea'] # [N]\n",
    "            epis_unct_sum += torch.sum(epis_unct)\n",
    "            alea_unct_sum += torch.sum(alea_unct)\n",
    "\n",
    "            # Check predictions\n",
    "            \n",
    "            _,y_pred = torch.max(model_pred,1)\n",
    "            n_correct   += (y_pred==y_trgt).sum().item()\n",
    "            n_total     += batch_in.size(0)\n",
    "            \n",
    "            epis_ += list(epis_unct.cpu().numpy())\n",
    "            alea_ += list(alea_unct.cpu().numpy())\n",
    "            \n",
    "        val_accr  = (n_correct/n_total)\n",
    "        epis      = (epis_unct_sum/n_total).detach().cpu().item()\n",
    "        alea      = (alea_unct_sum/n_total).detach().cpu().item()\n",
    "        model.train() # back to train mode \n",
    "        out_eval = {'val_accr':val_accr,'epis':epis,'alea':alea, 'epis_' : epis_,'alea_' : alea_, 'y_true':y_trues}\n",
    "    return out_eval"
   ]
  },
  {
   "cell_type": "code",
   "execution_count": 79,
   "metadata": {},
   "outputs": [
    {
     "name": "stdout",
     "output_type": "stream",
     "text": [
      "Files already downloaded and verified\n"
     ]
    },
    {
     "name": "stderr",
     "output_type": "stream",
     "text": [
      "/home/rilab/miniconda3/lib/python3.8/site-packages/torch/nn/functional.py:1625: UserWarning: nn.functional.sigmoid is deprecated. Use torch.sigmoid instead.\n",
      "  warnings.warn(\"nn.functional.sigmoid is deprecated. Use torch.sigmoid instead.\")\n"
     ]
    },
    {
     "name": "stdout",
     "output_type": "stream",
     "text": [
      "20000 10000 10000\n"
     ]
    },
    {
     "data": {
      "image/png": "[encoded data removed]",
      "text/plain": [
       "<Figure size 432x288 with 1 Axes>"
      ]
     },
     "metadata": {
      "image/png": {
       "height": 261,
       "width": 385
      },
      "needs_background": "light"
     },
     "output_type": "display_data"
    }
   ],
   "source": [
    "from sklearn.metrics import precision_recall_curve\n",
    "\n",
    "plt.xlabel('Recall')\n",
    "plt.ylabel('Precision')\n",
    "\n",
    "#test_iter\n",
    "cifar_res  = func_eval_ood(model,test_iter,device)\n",
    "svhn_res  = func_eval_ood(model,svhn_test_iter,device)\n",
    "y_true = [0 for i in range(len(cifar_res['epis_']))] + [1 for i in range(len(svhn_res['epis_']))]\n",
    "\n",
    "print(len(y_true), len(cifar_res['epis_']), len(svhn_res['epis_']))\n",
    "\n",
    "precision, recall, _   = precision_recall_curve(y_true,np.array(cifar_res['epis_']+ svhn_res['epis_']))\n",
    "plt.plot(recall, precision, lw=2, c='b', label='epis')\n",
    "precision, recall, _   = precision_recall_curve(y_true,np.array(cifar_res['alea_']+ svhn_res['alea_']))\n",
    "plt.plot(recall, precision, lw=2, c='r', label='alea')\n",
    "plt.legend()\n",
    "\n",
    "plt.show()"
   ]
  },
  {
   "cell_type": "code",
   "execution_count": 78,
   "metadata": {},
   "outputs": [
    {
     "data": {
      "text/plain": [
       "0"
      ]
     },
     "execution_count": 78,
     "metadata": {},
     "output_type": "execute_result"
    }
   ],
   "source": [
    "y_true[-1]"
   ]
  },
  {
   "cell_type": "code",
   "execution_count": 13,
   "metadata": {},
   "outputs": [
    {
     "ename": "NameError",
     "evalue": "name 'y_true' is not defined",
     "output_type": "error",
     "traceback": [
      "\u001b[0;31m---------------------------------------------------------------------------\u001b[0m",
      "\u001b[0;31mNameError\u001b[0m                                 Traceback (most recent call last)",
      "\u001b[0;32m<ipython-input-13-8f3014a0d939>\u001b[0m in \u001b[0;36m<module>\u001b[0;34m\u001b[0m\n\u001b[1;32m      2\u001b[0m \u001b[0mplt\u001b[0m\u001b[0;34m.\u001b[0m\u001b[0msubplot\u001b[0m\u001b[0;34m(\u001b[0m\u001b[0;36m1\u001b[0m\u001b[0;34m,\u001b[0m\u001b[0;36m2\u001b[0m\u001b[0;34m,\u001b[0m\u001b[0;36m1\u001b[0m\u001b[0;34m)\u001b[0m\u001b[0;34m\u001b[0m\u001b[0;34m\u001b[0m\u001b[0m\n\u001b[1;32m      3\u001b[0m \u001b[0mplt\u001b[0m\u001b[0;34m.\u001b[0m\u001b[0mtitle\u001b[0m\u001b[0;34m(\u001b[0m\u001b[0;34m'in-dist'\u001b[0m\u001b[0;34m)\u001b[0m\u001b[0;34m\u001b[0m\u001b[0;34m\u001b[0m\u001b[0m\n\u001b[0;32m----> 4\u001b[0;31m \u001b[0mplt\u001b[0m\u001b[0;34m.\u001b[0m\u001b[0mhist\u001b[0m\u001b[0;34m(\u001b[0m\u001b[0mepis\u001b[0m\u001b[0;34m[\u001b[0m\u001b[0my_true\u001b[0m \u001b[0;34m==\u001b[0m \u001b[0;36m0\u001b[0m\u001b[0;34m]\u001b[0m\u001b[0;34m,\u001b[0m \u001b[0mbins\u001b[0m\u001b[0;34m=\u001b[0m\u001b[0;36m15\u001b[0m\u001b[0;34m,\u001b[0m \u001b[0malpha\u001b[0m\u001b[0;34m=\u001b[0m\u001b[0;36m1\u001b[0m \u001b[0;34m,\u001b[0m \u001b[0mcolor\u001b[0m\u001b[0;34m=\u001b[0m\u001b[0;34m'r'\u001b[0m\u001b[0;34m)\u001b[0m\u001b[0;34m\u001b[0m\u001b[0;34m\u001b[0m\u001b[0m\n\u001b[0m\u001b[1;32m      5\u001b[0m \u001b[0mplt\u001b[0m\u001b[0;34m.\u001b[0m\u001b[0msubplot\u001b[0m\u001b[0;34m(\u001b[0m\u001b[0;36m1\u001b[0m\u001b[0;34m,\u001b[0m\u001b[0;36m2\u001b[0m\u001b[0;34m,\u001b[0m\u001b[0;36m2\u001b[0m\u001b[0;34m)\u001b[0m\u001b[0;34m\u001b[0m\u001b[0;34m\u001b[0m\u001b[0m\n\u001b[1;32m      6\u001b[0m \u001b[0mplt\u001b[0m\u001b[0;34m.\u001b[0m\u001b[0mtitle\u001b[0m\u001b[0;34m(\u001b[0m\u001b[0;34m'out-of-dist'\u001b[0m\u001b[0;34m)\u001b[0m\u001b[0;34m\u001b[0m\u001b[0;34m\u001b[0m\u001b[0m\n",
      "\u001b[0;31mNameError\u001b[0m: name 'y_true' is not defined"
     ]
    },
    {
     "data": {
      "image/png": "[encoded data removed]",
      "text/plain": [
       "<Figure size 432x288 with 1 Axes>"
      ]
     },
     "metadata": {
      "image/png": {
       "height": 263,
       "width": 197
      },
      "needs_background": "light"
     },
     "output_type": "display_data"
    }
   ],
   "source": [
    "epis   = np.array(test_res['epis_'])\n",
    "plt.subplot(1,2,1)\n",
    "plt.title('in-dist')\n",
    "plt.hist(epis[y_true == 0], bins=15, alpha=1 , color='r')\n",
    "plt.subplot(1,2,2)\n",
    "plt.title('out-of-dist')\n",
    "plt.hist(epis[y_true == 1], bins=15,  alpha=0.3 , color='b')"
   ]
  },
  {
   "cell_type": "code",
   "execution_count": null,
   "metadata": {},
   "outputs": [],
   "source": [
    "y_true = np.array(test_res['y_true'])\n",
    "epis   = np.array(test_res['epis_'])\n",
    "print(np.mean(epis[y_true == 0]), np.mean(epis[y_true == 1]))"
   ]
  },
  {
   "cell_type": "code",
   "execution_count": null,
   "metadata": {},
   "outputs": [],
   "source": []
  }
 ],
 "metadata": {
  "kernelspec": {
   "display_name": "Python 3",
   "language": "python",
   "name": "python3"
  },
  "language_info": {
   "codemirror_mode": {
    "name": "ipython",
    "version": 3
   },
   "file_extension": ".py",
   "mimetype": "text/x-python",
   "name": "python",
   "nbconvert_exporter": "python",
   "pygments_lexer": "ipython3",
   "version": "3.8.5"
  }
 },
 "nbformat": 4,
 "nbformat_minor": 4
}
